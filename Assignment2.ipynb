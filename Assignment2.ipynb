{
 "cells": [
  {
   "cell_type": "code",
   "execution_count": 32,
   "metadata": {},
   "outputs": [
    {
     "name": "stdout",
     "output_type": "stream",
     "text": [
      "5\n",
      "44\n",
      "54\n",
      "34\n",
      "55\n",
      "799\n",
      "45\n",
      "54\n",
      "44\n",
      "34\n",
      "[44, 54, 34, 54, 44, 34]\n"
     ]
    }
   ],
   "source": [
    "#Q1 \n",
    "\n",
    "l = []\n",
    "i=0\n",
    "for i in range(10):\n",
    "    a = int(input())\n",
    "    if a%2==0:\n",
    "        l.append(a)\n",
    "print(l) "
   ]
  },
  {
   "cell_type": "raw",
   "metadata": {},
   "source": [
    "#Q2\n",
    "\n",
    "List comprehensions provide a concise way to create lists.\n",
    "\n",
    "It consists of brackets containing an expression followed by a for clause, then\n",
    "zero or more for or if clauses. The expressions can be anything, meaning you can put in all kinds of objects in lists.\n",
    "\n",
    "The result will be a new list resulting from evaluating the expression from the for and if clauses which follow it.\n",
    "\n",
    "Syntax : [ expression for item in list if conditional ]\n",
    "\n",
    "So, list comprehension can do same work in 1 line which usually takes 3 or 4 lines to do.\n",
    "It is easy to read and understand by other programmers.\n"
   ]
  },
  {
   "cell_type": "code",
   "execution_count": 30,
   "metadata": {},
   "outputs": [
    {
     "name": "stdout",
     "output_type": "stream",
     "text": [
      "5\n",
      "{1: 1, 2: 4, 3: 9, 4: 16, 5: 25} "
     ]
    }
   ],
   "source": [
    "#Q3\n",
    "\n",
    "n = int(input())\n",
    "d = {}\n",
    "j=1\n",
    "for i in range(1,n+1):\n",
    "    d[i] = i*i\n",
    "print(d, end=\" \")"
   ]
  },
  {
   "cell_type": "code",
   "execution_count": 29,
   "metadata": {},
   "outputs": [
    {
     "name": "stdout",
     "output_type": "stream",
     "text": [
      "4\n",
      "up 5\n",
      "down 3\n",
      "left 3\n",
      "right 2\n",
      "2\n"
     ]
    }
   ],
   "source": [
    "#Q4 \n",
    "\n",
    "import math\n",
    "n = int(input())\n",
    "x=0\n",
    "y=0\n",
    "for i in range(n):\n",
    "    direc,step = input().split(\" \")\n",
    "    step = int(step)\n",
    "    if(direc.lower() == \"up\"):\n",
    "        x=x+step\n",
    "    elif(direc.lower() == \"down\"):\n",
    "        x=x-step\n",
    "    elif(direc.lower() == \"left\"):\n",
    "        y=y-step\n",
    "    elif(direc.lower() == \"right\"):\n",
    "        y=y+step\n",
    "#print(\"final : \",x,\" \",y)\n",
    "res = math.sqrt(x*x + y*y)\n",
    "#print(res)\n",
    "res = round(res)\n",
    "print(res)\n",
    "    "
   ]
  }
 ],
 "metadata": {
  "kernelspec": {
   "display_name": "Python 3",
   "language": "python",
   "name": "python3"
  },
  "language_info": {
   "codemirror_mode": {
    "name": "ipython",
    "version": 3
   },
   "file_extension": ".py",
   "mimetype": "text/x-python",
   "name": "python",
   "nbconvert_exporter": "python",
   "pygments_lexer": "ipython3",
   "version": "3.8.3"
  }
 },
 "nbformat": 4,
 "nbformat_minor": 4
}
